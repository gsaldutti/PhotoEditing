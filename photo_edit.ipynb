{
 "cells": [
  {
   "cell_type": "code",
   "execution_count": 3,
   "id": "d03ae867-25e5-4ade-b981-1459085dcb53",
   "metadata": {},
   "outputs": [],
   "source": [
    "# Photo Editing \n",
    "# pip install pillow\n",
    "from PIL import Image, ImageFilter\n",
    "\n",
    "# Resize an image\n",
    "img = Image.open('austin.JPG')\n",
    "resize = img.resize((200, 300))\n",
    "resize.save('output.JPG')\n",
    "\n"
   ]
  },
  {
   "cell_type": "code",
   "execution_count": 4,
   "id": "e602514f-7d86-4679-9742-826d383d56b4",
   "metadata": {},
   "outputs": [],
   "source": [
    "# Blur Image\n",
    "img = Image.open('austin.jpg')\n",
    "blur = img.filter(ImageFilter.BLUR)\n",
    "blur.save('output1.jpg')"
   ]
  },
  {
   "cell_type": "code",
   "execution_count": 5,
   "id": "3b5ca8ea-bba7-4afe-bdcf-c7d38d83221b",
   "metadata": {},
   "outputs": [],
   "source": [
    "# Sharp Image\n",
    "img = Image.open('austin.jpg')\n",
    "sharp = img.filter(ImageFilter.SHARPEN)\n",
    "sharp.save('output2.jpg')"
   ]
  },
  {
   "cell_type": "code",
   "execution_count": 6,
   "id": "6aef8db5-a7a8-403b-95f5-5f5a146b756d",
   "metadata": {},
   "outputs": [],
   "source": [
    "# Crop Image\n",
    "img = Image.open('austin.jpg')\n",
    "crop = img.crop((0, 0, 50, 50))\n",
    "crop.save('output3.jpg')"
   ]
  },
  {
   "cell_type": "code",
   "execution_count": 7,
   "id": "a73c4986-3437-4652-9b92-b77ed57e960c",
   "metadata": {},
   "outputs": [],
   "source": [
    "# Rotate Image\n",
    "img = Image.open('austin.jpg')\n",
    "rotate = img.rotate(90)\n",
    "rotate.save('output4.jpg')"
   ]
  },
  {
   "cell_type": "code",
   "execution_count": 8,
   "id": "abdef229-f1a3-44cf-8d7f-7513dfa630bf",
   "metadata": {},
   "outputs": [],
   "source": [
    "# Flip Image\n",
    "img = Image.open('austin.jpg')\n",
    "flip = img.transpose(Image.FLIP_LEFT_RIGHT)\n",
    "flip.save('output5.jpg')"
   ]
  },
  {
   "cell_type": "code",
   "execution_count": 9,
   "id": "093df081-510f-48fc-9b6f-a38bb44f844f",
   "metadata": {},
   "outputs": [],
   "source": [
    "# Transpose Image\n",
    "img = Image.open('austin.jpg')\n",
    "transpose = img.transpose(Image.TRANSPOSE)\n",
    "transpose.save('output6.jpg')"
   ]
  },
  {
   "cell_type": "code",
   "execution_count": 10,
   "id": "837e5562-f4ee-4eab-90c4-374b881d1282",
   "metadata": {},
   "outputs": [],
   "source": [
    "# Convert Image to GreyScale\n",
    "img = Image.open('austin.jpg')\n",
    "convert = img.convert('L')\n",
    "convert.save('output7.jpg')"
   ]
  },
  {
   "cell_type": "markdown",
   "id": "b517303d-c1b3-455c-b2e9-b2eed42c31d1",
   "metadata": {},
   "source": [
    "Photo Editing\n",
    "Edit your photos with this awesome automation script that uses the Pillow module. Below I made a list of image editing functions that you can use in your Python project or solve any daily life problem.\n",
    "This script is a handful of snippet codes for programmers who need to programmatically edit their images."
   ]
  }
 ],
 "metadata": {
  "kernelspec": {
   "display_name": "Python 3 (ipykernel)",
   "language": "python",
   "name": "python3"
  },
  "language_info": {
   "codemirror_mode": {
    "name": "ipython",
    "version": 3
   },
   "file_extension": ".py",
   "mimetype": "text/x-python",
   "name": "python",
   "nbconvert_exporter": "python",
   "pygments_lexer": "ipython3",
   "version": "3.7.11"
  }
 },
 "nbformat": 4,
 "nbformat_minor": 5
}
